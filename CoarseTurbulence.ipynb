{
 "cells": [
  {
   "cell_type": "markdown",
   "metadata": {},
   "source": [
    "# Coarse Turbulence"
   ]
  },
  {
   "cell_type": "markdown",
   "metadata": {},
   "source": [
    "Traditional turbulence measures such as the LKOP require high spatial resolution and O(1000) oscillators. This spatial resolution is obtainable from fMRI data but not from MEG which has lower spatial resolution. For this we use a novel method based on 'edge metastability'."
   ]
  },
  {
   "cell_type": "code",
   "execution_count": 27,
   "metadata": {},
   "outputs": [
    {
     "data": {
      "text/plain": [
       "<module 'CoarseTurbulenceMeasures' from '/home/nartallokalu/Desktop/turbulencecontrol/CoarseTurbulenceMeasures.py'>"
      ]
     },
     "execution_count": 27,
     "metadata": {},
     "output_type": "execute_result"
    }
   ],
   "source": [
    "import importlib\n",
    "\n",
    "import numpy as np\n",
    "\n",
    "import CoarseTurbulenceMeasures as CTM\n",
    "\n",
    "importlib.reload(CTM)"
   ]
  },
  {
   "cell_type": "code",
   "execution_count": 7,
   "metadata": {},
   "outputs": [],
   "source": [
    "import TurbulenceMeasures as TB\n",
    "import Model as model"
   ]
  },
  {
   "cell_type": "code",
   "execution_count": 9,
   "metadata": {},
   "outputs": [],
   "source": [
    "#Simulation parameters\n",
    "#Model parameters\n",
    "N=60; T=1000; delta_x=0.1; beta=2.6; sigma=0.1; K=0.05\n",
    "#Latent parameters\n",
    "alpha = np.angle(complex(1,beta)); w=beta+1; D= (sigma/K)*np.sqrt(1+beta**2)\n",
    "#Coupling function\n",
    "def G(x):\n",
    "    return 0.5*np.exp(-np.abs(x))\n",
    "#Integration parameters\n",
    "#phi_0 = np.random.uniform(low=0,high=2*np.pi,size=N)\n",
    "phi_0=np.zeros(N)\n",
    "num_points = 10000; t_0=0"
   ]
  },
  {
   "cell_type": "code",
   "execution_count": 10,
   "metadata": {},
   "outputs": [],
   "source": [
    "coarse_sol,t = model.SolvePhaseHopfModel(phi_0,T,N,w,G,num_points,t_0,delta_x,alpha,D)\n",
    "bounded_coarse_sol=np.mod(coarse_sol,2*np.pi)"
   ]
  },
  {
   "cell_type": "code",
   "execution_count": 17,
   "metadata": {},
   "outputs": [],
   "source": [
    "E,pairs = CTM.CalculateEdgeCenteredMatrix(bounded_coarse_sol)"
   ]
  },
  {
   "cell_type": "code",
   "execution_count": 28,
   "metadata": {},
   "outputs": [],
   "source": [
    "D = CTM.CalculateVariance(E)"
   ]
  },
  {
   "cell_type": "code",
   "execution_count": 26,
   "metadata": {},
   "outputs": [],
   "source": [
    "C = CTM.CalculateEdgeSpaceTimeProb(E,list(range(1,7)))"
   ]
  }
 ],
 "metadata": {
  "kernelspec": {
   "display_name": "Python 3.11.0 64-bit",
   "language": "python",
   "name": "python3"
  },
  "language_info": {
   "codemirror_mode": {
    "name": "ipython",
    "version": 3
   },
   "file_extension": ".py",
   "mimetype": "text/x-python",
   "name": "python",
   "nbconvert_exporter": "python",
   "pygments_lexer": "ipython3",
   "version": "3.11.0"
  },
  "orig_nbformat": 4,
  "vscode": {
   "interpreter": {
    "hash": "aee8b7b246df8f9039afb4144a1f6fd8d2ca17a180786b69acc140d282b71a49"
   }
  }
 },
 "nbformat": 4,
 "nbformat_minor": 2
}
